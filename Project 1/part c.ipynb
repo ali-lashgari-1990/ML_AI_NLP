{
 "cells": [
  {
   "cell_type": "code",
   "execution_count": null,
   "id": "4a1b808f",
   "metadata": {},
   "outputs": [],
   "source": [
    "### Define a function to take three input arguments (it,v,and the entire data frame)\n",
    "### and return the minimum log10Ubeta2sum. This function finds the small\n",
    "### est log10Ubeta2sum among all rows with the same it and v. \n",
    "### The name of the function is findmin.\n",
    "import numpy as np\n",
    "import pandas as pd\n",
    "import os\n",
    "\n",
    "\n",
    "def findmin(it,v,df):\n",
    "    \n",
    "    mask = df.loc[:,\"it\"] == it\n",
    "    mask1 = df.loc[:,'v'] == v\n",
    "    df_mask = df.loc[mask & mask1,:]\n",
    "    smallest = np.min(df_mask[\"log10Ubeta2sum\"])\n",
    "\n",
    "    return smallest\n",
    "# df_mask\n",
    "# findmin(784,16,df)\n",
    "# df.tail(30)"
   ]
  },
  {
   "cell_type": "code",
   "execution_count": 31,
   "id": "4b43c83d",
   "metadata": {},
   "outputs": [],
   "source": [
    "# it=164\n",
    "# df.loc[:,\"it\"] == it\n"
   ]
  },
  {
   "cell_type": "code",
   "execution_count": null,
   "id": "ca5c0b90",
   "metadata": {},
   "outputs": [],
   "source": [
    "def findmin(it,v,df):\n",
    "    mask = df.loc[:,\"it\"] == it_list\n",
    "    mask1 = df.loc[:,'v'] == v_list\n",
    "    df_mask = df.loc[mask & mask1,:]\n",
    "    smallest = np.min(df_mask[\"log10Ubeta2sum\"])"
   ]
  },
  {
   "cell_type": "code",
   "execution_count": null,
   "id": "4caf9af1",
   "metadata": {},
   "outputs": [],
   "source": [
    "findmin(784,15,df)\n"
   ]
  },
  {
   "cell_type": "code",
   "execution_count": null,
   "id": "8fedf82c",
   "metadata": {},
   "outputs": [],
   "source": [
    "findmin(166,16,df)"
   ]
  },
  {
   "cell_type": "code",
   "execution_count": 28,
   "id": "ce227b34",
   "metadata": {},
   "outputs": [
    {
     "data": {
      "text/plain": [
       "5.480981617883187"
      ]
     },
     "execution_count": 28,
     "metadata": {},
     "output_type": "execute_result"
    }
   ],
   "source": [
    "findmin(784,16,df)"
   ]
  },
  {
   "cell_type": "code",
   "execution_count": null,
   "id": "c73dbd09",
   "metadata": {},
   "outputs": [],
   "source": [
    "df = pd.DataFrame()\n",
    "df[\"it\"]=it_list\n",
    "df[\"v\"]=v_list\n",
    "df[\"epoch\"]= epoch_list\n",
    "df[\"U\"] = U_list\n",
    "df[\"log10Ubeta2sum\"]= np.log10(df[\"U\"].values)\n",
    "# df"
   ]
  },
  {
   "cell_type": "code",
   "execution_count": null,
   "id": "a29dd174",
   "metadata": {},
   "outputs": [],
   "source": [
    "file = open(\"hw1_1_dat.txt\")\n",
    "lines = file.readlines()\n",
    "file.close()\n",
    "\n",
    "\n",
    "it_list = []\n",
    "for line in lines:\n",
    "    for word in line.split('  '):\n",
    "        if word.startswith('it='):\n",
    "            it_list.append(int(word.split(' ')[1]))\n",
    "# it_list\n",
    "\n",
    "v_list = []\n",
    "for line in lines:\n",
    "    for word in line.split('  '):\n",
    "        if word.startswith('v='):\n",
    "            v_list.append(int(word.split('v=')[1]))\n",
    "# v_list\n",
    "\n",
    "\n",
    "epoch_list = []\n",
    "for line in lines:\n",
    "    for word in line.split('  '):\n",
    "        if word.startswith('epoch='):\n",
    "            epoch_list.append(word.split(' ')[1])            \n",
    "# epoch_list\n",
    "\n",
    "\n",
    "U_list = []\n",
    "for line in lines:\n",
    "    words = line.split('  ')\n",
    "    for i, word in enumerate(words):\n",
    "        if word.endswith('sum is'):\n",
    "            U_list.append(float(words[i+1].split(' ')[0]))\n",
    "# U_list\n"
   ]
  },
  {
   "cell_type": "code",
   "execution_count": null,
   "id": "1daf388d",
   "metadata": {},
   "outputs": [],
   "source": []
  }
 ],
 "metadata": {
  "kernelspec": {
   "display_name": "Python 3 (ipykernel)",
   "language": "python",
   "name": "python3"
  },
  "language_info": {
   "codemirror_mode": {
    "name": "ipython",
    "version": 3
   },
   "file_extension": ".py",
   "mimetype": "text/x-python",
   "name": "python",
   "nbconvert_exporter": "python",
   "pygments_lexer": "ipython3",
   "version": "3.9.7"
  }
 },
 "nbformat": 4,
 "nbformat_minor": 5
}
