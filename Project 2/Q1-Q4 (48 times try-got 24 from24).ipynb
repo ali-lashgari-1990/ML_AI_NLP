{
 "cells": [
  {
   "cell_type": "code",
   "execution_count": 66,
   "id": "996bec6b",
   "metadata": {},
   "outputs": [],
   "source": [
    "# Q1\n",
    "\n",
    "import numpy as np\n",
    "import pandas as pd\n",
    "from sklearn.metrics import confusion_matrix, accuracy_score, recall_score , precision_score, f1_score, recall_score\n",
    "from scikitplot.metrics import plot_roc, plot_ks_statistic, plot_cumulative_gain\n",
    "from sklearn.metrics import roc_auc_score, roc_curve, auc\n",
    "from scipy.stats import ks_2samp\n",
    "from statsmodels.distributions.empirical_distribution import ECDF\n",
    "import scikitplot as skplt\n",
    "import matplotlib.pyplot as plt\n",
    "\n",
    "class performance_measure:\n",
    "    def predict_y(self, prob_of_class1, classes, thres=0.5):\n",
    "        predicted_y = []\n",
    "        for i in range (len(prob_of_class1)):\n",
    "            predicted_y.append(np.where(prob_of_class1[i]>thres, classes[1], classes[0]).tolist())\n",
    "\n",
    "        return predicted_y\n",
    "    \n",
    "    \n",
    "    def confusion_based(self, target_y, predicted_y, class1_label):\n",
    "        #compute tpr, tnr, fpr, fnr, precision, recall, F1measure\n",
    "        confusion_matrix(target_y, predicted_y)\n",
    "        tn, fp, fn, tp = confusion_matrix(target_y, predicted_y).ravel() #just for binary (0,1)\n",
    "        \n",
    "        tpr = tp/(tp+fn)\n",
    "        tnr = tn/(tn+fp)\n",
    "        fpr = fp/(fp+tn)\n",
    "        fnr = fn/(tp+fn)\n",
    "        \n",
    "        precision = tp/(tp+fp)\n",
    "        recall = tp/(tp+fn)\n",
    "        F1measure = 2*((precision*recall)/(precision+recall))\n",
    "\n",
    "\n",
    "        result = {\"TPR\":tpr, \"TNR\":tnr, \"FPR\":fpr, \"FNR\":fnr, \"precision\":precision, \"recall\":recall, \"F1\":F1measure}\n",
    "        \n",
    "        return result\n",
    "\n",
    "# function for average class accuracy   \n",
    "    def ave_class_accuracy(self, target_y, predicted_y):\n",
    "       \n",
    "        confusion_matrix(target_y, predicted_y)\n",
    "        tn, fp, fn, tp = confusion_matrix(target_y, predicted_y).ravel() #just for binary (0,1)\n",
    "        \n",
    "        arithmatic = 0.5 * ((tp/(tp+fn))+ (tn/(tn+fp))) # for just two classes\n",
    "       \n",
    "        h = (1/ ((tp/(tp+fn)))+ (1/(tn/(tn+fp))))\n",
    "        harmonic = 1/(0.5*h) # for just two classes\n",
    "        \n",
    "        return {\"ave\":arithmatic, \"HM\":harmonic}\n",
    "    \n",
    "    \n",
    "# function for plotting ROC curve and calculating AUC, ROC index, Gini coef\n",
    "    def roc(self,  target_y, predicted_prob_class1, class1_label):   \n",
    "        auc = roc_auc_score(target_y, predicted_prob_class1)\n",
    "        roc_index = auc\n",
    "        gini = (2*roc_index)-1\n",
    "#         fpr, tpr, thres=roc_curve(target_y, predicted_prob_class1, class1_label)\n",
    "#         plt.plot(fpr, tpr)\n",
    "#         plt.show()\n",
    "\n",
    "#         #computing auc\n",
    "#         auc = skplt.metrics.roc_auc_score(fpr, tpr)\n",
    "#         #computing roc_index\n",
    "#         for i in range(2, len(thres)):\n",
    "#         roc_index = sum([(tpr[i]+tpr[i-1])*(fpr[i]-fpr[i-1])])/2\n",
    "#         #computing gini\n",
    "#         gini = (2*roc_index)-1\n",
    "\n",
    "        return {\"AUC\":auc, \"ROC_index\":roc_index, \"Gini_coef\":gini}\n",
    "\n",
    "    \n",
    "    \n",
    "# function for computing and plotting Kolmogorov-Smirnov Statistic\n",
    "    def KS(self, target_y, predicted_prob_class1):  \n",
    "        # compute KS statistics KS_stat\n",
    "        # render a plot of K-S chart in the function (see Figure 12)\n",
    "        \n",
    "        KS_stat = skplt.metrics.plot_ks_statistic(target_y, predicted_prob_class1)\n",
    "        plt.show()\n",
    "        \n",
    "        return KS_stat \n",
    "    \n",
    "    \n",
    "# function for computing and plotting\n",
    "    def cum_gain(self, target_y, predicted_prob_class1, target_percent, class1_label): \n",
    "        \n",
    "        df = pd.DataFrame()\n",
    "        df[\"target_y\"] = target_y\n",
    "        df[\"prob\"] = predicted_prob_class1\n",
    "\n",
    "        \n",
    "        df[\"C1 or not\"] = np.array(np.array(target_y) == class1_label, dtype = 'int')\n",
    "        k = np.sum(np.array(target_y) == class1_label)\n",
    "        \n",
    "        df = df.sort_values(by=[\"prob\"], ascending=False)\n",
    "        \n",
    "        df[\"gain\"] =  df[\"C1 or not\"].div(k)\n",
    "        df[\"cumulative_gain\"] = np.cumsum(df.gain)\n",
    "        print(df)\n",
    "        \n",
    "        for i in range(len(target_y)): \n",
    "            if df.cumulative_gain.iloc[i] == target_percent:\n",
    "            \n",
    "                cum_gain_at_cut_off = df.cumulative_gain.iloc[i]\n",
    "                score_cutoff = df.prob.iloc[i]\n",
    "                break\n",
    "            elif df.cumulative_gain.iloc[i] > target_percent:\n",
    "                cum_gain_at_cut_off = df.cumulative_gain.iloc[i]\n",
    "                score_cutoff = df.prob.iloc[i]\n",
    "                break\n",
    "            else:\n",
    "                cum_gain_at_cut_off = 0\n",
    "                score_cutoff = 0\n",
    "                \n",
    "#         skplt.metrics.plot_cumulative_gain(target_y, predicted_prob_class1)\n",
    "#         plt.show()\n",
    "        \n",
    "        return (score_cutoff, cum_gain_at_cut_off)"
   ]
  },
  {
   "cell_type": "code",
   "execution_count": 2,
   "id": "e5432f8d",
   "metadata": {},
   "outputs": [],
   "source": [
    "myanswer=performance_measure() #define an object\n",
    "classes=( 'false', 'true')\n",
    "class1_label= 'true'"
   ]
  },
  {
   "cell_type": "code",
   "execution_count": 3,
   "id": "66bf56f5",
   "metadata": {},
   "outputs": [],
   "source": [
    "# Q2 - part a\n",
    "\n",
    "\n",
    "pred_donation = open('pred_donation.txt','r') #open a file with two models\n",
    "\n",
    "lines=pred_donation.readlines()  #consider the second column as a model1\n",
    "Model1Score=[]\n",
    "for x in lines:\n",
    "    Model1Score.append(x.split(' ')[2])\n",
    "del Model1Score[0]\n",
    "# Model1Score\n",
    "Model1 = [float(idx) for idx in Model1Score]\n",
    "#Model1\n",
    "\n",
    "pred_donation = open('pred_donation.txt','r') #consider the third column as a model2\n",
    "lines=pred_donation.readlines()\n",
    "Model2Score=[]\n",
    "for x in lines:\n",
    "    Model2Score.append(x.split(' ')[3])\n",
    "del Model2Score[0]\n",
    "# Model2Score\n",
    "Model2 = [float(idx) for idx in Model2Score]\n",
    "# Model2\n",
    "\n",
    "pred_donation = open('pred_donation.txt','r') #consider the first column as a target\n",
    "lines=pred_donation.readlines()\n",
    "target=[]\n",
    "for x in lines:\n",
    "    target.append(x.split(' ')[1])\n",
    "del target[0]\n",
    "# target\n"
   ]
  },
  {
   "cell_type": "code",
   "execution_count": 4,
   "id": "6a83071b",
   "metadata": {},
   "outputs": [
    {
     "name": "stdout",
     "output_type": "stream",
     "text": [
      "['false', 'false', 'true', 'true', 'false', 'true', 'true', 'false', 'false', 'true', 'true', 'true', 'false', 'true', 'false', 'true', 'true', 'false', 'false', 'true', 'true', 'true', 'false', 'true', 'false', 'false', 'true', 'true', 'false', 'true']\n",
      "{'TPR': 0.8823529411764706, 'TNR': 0.8461538461538461, 'FPR': 0.15384615384615385, 'FNR': 0.11764705882352941, 'precision': 0.8823529411764706, 'recall': 0.8823529411764706, 'F1': 0.8823529411764706}\n"
     ]
    }
   ],
   "source": [
    "predic_model1 = myanswer.predict_y(Model1, classes,thres=0.5)\n",
    "print(predic_model1)\n",
    "\n",
    "\n",
    "\n",
    "print(myanswer.confusion_based(target,predic_model1,classes[1]))\n",
    "df = pd.DataFrame(( Model1,predic_model1,target), index=[\"Model1\",\"predic_model1\",\"target\"])\n",
    "# df.T\n"
   ]
  },
  {
   "cell_type": "code",
   "execution_count": 10,
   "id": "dc355082",
   "metadata": {},
   "outputs": [
    {
     "data": {
      "text/plain": [
       "{'TPR': 0.8823529411764706,\n",
       " 'TNR': 0.8461538461538461,\n",
       " 'FPR': 0.15384615384615385,\n",
       " 'FNR': 0.11764705882352941,\n",
       " 'precision': 0.8823529411764706,\n",
       " 'recall': 0.8823529411764706,\n",
       " 'F1': 0.8823529411764706}"
      ]
     },
     "execution_count": 10,
     "metadata": {},
     "output_type": "execute_result"
    }
   ],
   "source": [
    "myanswer.confusion_based(target,predic_model1,'true')"
   ]
  },
  {
   "cell_type": "code",
   "execution_count": 18,
   "id": "bf572e3a",
   "metadata": {},
   "outputs": [
    {
     "name": "stdout",
     "output_type": "stream",
     "text": [
      "simple_accuracy: 0.8666666666666667\n"
     ]
    }
   ],
   "source": [
    "from sklearn.metrics import accuracy_score\n",
    "simple_accuracy = accuracy_score(target, predic_model1)\n",
    "print(\"simple_accuracy:\",simple_accuracy)"
   ]
  },
  {
   "cell_type": "code",
   "execution_count": 21,
   "id": "5e4efd58",
   "metadata": {},
   "outputs": [
    {
     "data": {
      "text/plain": [
       "{'TPR': 0.8235294117647058,\n",
       " 'TNR': 0.7692307692307693,\n",
       " 'FPR': 0.23076923076923078,\n",
       " 'FNR': 0.17647058823529413,\n",
       " 'precision': 0.8235294117647058,\n",
       " 'recall': 0.8235294117647058,\n",
       " 'F1': 0.8235294117647058}"
      ]
     },
     "execution_count": 21,
     "metadata": {},
     "output_type": "execute_result"
    }
   ],
   "source": [
    "myanswer.confusion_based(target,predic_model2,'true')"
   ]
  },
  {
   "cell_type": "code",
   "execution_count": 22,
   "id": "67d8705c",
   "metadata": {},
   "outputs": [
    {
     "name": "stdout",
     "output_type": "stream",
     "text": [
      "simple_accuracy: 0.8\n"
     ]
    }
   ],
   "source": [
    "from sklearn.metrics import accuracy_score\n",
    "simple_accuracy = accuracy_score(target, predic_model2)\n",
    "print(\"simple_accuracy:\",simple_accuracy)"
   ]
  },
  {
   "cell_type": "code",
   "execution_count": 5,
   "id": "1f76de9a",
   "metadata": {},
   "outputs": [],
   "source": [
    "# import matplotlib.pyplot as plt\n",
    "# import numpy as np\n",
    "# from sklearn import metrics\n",
    "\n",
    "# actual = np.random.binomial(1,.9,size = 1000)\n",
    "# predicted = np.random.binomial(1,.9,size = 1000)\n",
    "\n",
    "# confusion_matrix = metrics.confusion_matrix(target, predic_model1)\n",
    "\n",
    "# cm_display = metrics.ConfusionMatrixDisplay(confusion_matrix = confusion_matrix, display_labels = [False, True])\n",
    "\n",
    "# cm_display.plot()\n",
    "# plt.show()"
   ]
  },
  {
   "cell_type": "code",
   "execution_count": 19,
   "id": "e3fe7527",
   "metadata": {},
   "outputs": [
    {
     "name": "stdout",
     "output_type": "stream",
     "text": [
      "['false', 'false', 'true', 'true', 'false', 'true', 'true', 'true', 'false', 'true', 'true', 'true', 'true', 'true', 'false', 'false', 'true', 'false', 'true', 'true', 'true', 'true', 'false', 'false', 'false', 'false', 'false', 'true', 'false', 'true']\n"
     ]
    }
   ],
   "source": [
    "predic_model2 = myanswer.predict_y(Model2, classes,thres=0.5)\n",
    "print(predic_model2)\n",
    "\n",
    "# print(myanswer.confusion_based(target,predic_model2,'class1'))\n",
    "\n",
    "dg = pd.DataFrame((target, Model1,predic_model1,Model2,predic_model2), index=[\"target\",\"Model1\",\"predic_model1\",\"Model2\",\"predic_model2\"])\n",
    "dg.T\n",
    "\n"
   ]
  },
  {
   "cell_type": "code",
   "execution_count": 91,
   "id": "7a5869f1",
   "metadata": {},
   "outputs": [],
   "source": [
    "# import matplotlib.pyplot as plt\n",
    "# import numpy\n",
    "# from sklearn import metrics\n",
    "\n",
    "# actual = np.random.binomial(1,.9,size = 1000)\n",
    "# predicted = np.random.binomial(1,.9,size = 1000)\n",
    "\n",
    "# confusion_matrix = metrics.confusion_matrix(target, predic_model2)\n",
    "\n",
    "# cm_display = metrics.ConfusionMatrixDisplay(confusion_matrix = confusion_matrix, display_labels = [False, True])\n",
    "\n",
    "# cm_display.plot()\n",
    "# plt.show()"
   ]
  },
  {
   "cell_type": "code",
   "execution_count": 60,
   "id": "8b997b65",
   "metadata": {},
   "outputs": [
    {
     "name": "stdout",
     "output_type": "stream",
     "text": [
      "{'ave': 0.8642533936651584, 'HM': 0.8638743455497381}\n",
      "{'ave': 0.7963800904977376, 'HM': 0.7954545454545455}\n"
     ]
    }
   ],
   "source": [
    "# Q2 - part b\n",
    "\n",
    "print(myanswer.ave_class_accuracy(target, predic_model1))\n",
    "print(myanswer.ave_class_accuracy(target, predic_model2))"
   ]
  },
  {
   "cell_type": "code",
   "execution_count": 36,
   "id": "4dfe4bc9",
   "metadata": {},
   "outputs": [],
   "source": [
    "# Q2 - part c\n",
    "#  model1 because it's average accuracy is higher than model2."
   ]
  },
  {
   "cell_type": "code",
   "execution_count": 28,
   "id": "dd95d1be",
   "metadata": {},
   "outputs": [
    {
     "name": "stdout",
     "output_type": "stream",
     "text": [
      "   target_y    prob  C1 or not      gain  cumulative_gain\n",
      "19    false  0.9800          0  0.000000         0.000000\n",
      "21     true  0.9693          1  0.058824         0.058824\n",
      "13     true  0.9326          1  0.058824         0.117647\n",
      "9     false  0.9231          0  0.000000         0.117647\n",
      "3      true  0.8645          1  0.058824         0.176471\n",
      "29     true  0.8224          1  0.058824         0.235294\n",
      "16     true  0.7677          1  0.058824         0.294118\n",
      "5      true  0.7600          1  0.058824         0.352941\n",
      "10     true  0.7563          1  0.058824         0.411765\n",
      "6      true  0.7519          1  0.058824         0.470588\n",
      "15     true  0.7165          1  0.058824         0.529412\n",
      "23     true  0.7047          1  0.058824         0.588235\n",
      "20     true  0.6562          1  0.058824         0.647059\n",
      "27     true  0.5713          1  0.058824         0.705882\n",
      "11     true  0.5664          1  0.058824         0.764706\n",
      "26     true  0.5440          1  0.058824         0.823529\n",
      "2      true  0.5120          1  0.058824         0.882353\n",
      "17    false  0.4468          0  0.000000         0.882353\n",
      "25    false  0.4440          0  0.000000         0.882353\n",
      "28    false  0.3757          0  0.000000         0.882353\n",
      "24    false  0.3711          0  0.000000         0.882353\n",
      "7      true  0.2994          1  0.058824         0.941176\n",
      "1     false  0.2937          0  0.000000         0.941176\n",
      "12     true  0.2872          1  0.058824         1.000000\n",
      "18    false  0.2176          0  0.000000         1.000000\n",
      "4     false  0.1987          0  0.000000         1.000000\n",
      "0     false  0.1026          0  0.000000         1.000000\n",
      "14    false  0.0651          0  0.000000         1.000000\n",
      "8     false  0.0552          0  0.000000         1.000000\n",
      "22    false  0.0275          0  0.000000         1.000000\n"
     ]
    },
    {
     "data": {
      "text/plain": [
       "(0.8224, 0.23529411764705882)"
      ]
     },
     "execution_count": 28,
     "metadata": {},
     "output_type": "execute_result"
    }
   ],
   "source": [
    "# Q2 - part d\n",
    "\n",
    "myanswer= performance_measure()\n",
    "class1_label='true'\n",
    "myanswer.cum_gain(target, Model1, 0.2, class1_label)\n"
   ]
  },
  {
   "cell_type": "code",
   "execution_count": 29,
   "id": "543ef800",
   "metadata": {},
   "outputs": [
    {
     "name": "stdout",
     "output_type": "stream",
     "text": [
      "   target_y    prob  C1 or not      gain  cumulative_gain\n",
      "6      true  0.9800          1  0.058824         0.058824\n",
      "21     true  0.9521          1  0.058824         0.117647\n",
      "5      true  0.9398          1  0.058824         0.176471\n",
      "13     true  0.9274          1  0.058824         0.235294\n",
      "27     true  0.9200          1  0.058824         0.294118\n",
      "10     true  0.9062          1  0.058824         0.352941\n",
      "12     true  0.8764          1  0.058824         0.411765\n",
      "29     true  0.8614          1  0.058824         0.470588\n",
      "7      true  0.8578          1  0.058824         0.529412\n",
      "2      true  0.8378          1  0.058824         0.588235\n",
      "16     true  0.8086          1  0.058824         0.647059\n",
      "20     true  0.7843          1  0.058824         0.705882\n",
      "11     true  0.7301          1  0.058824         0.764706\n",
      "3      true  0.7160          1  0.058824         0.823529\n",
      "18    false  0.5809          0  0.000000         0.823529\n",
      "19    false  0.5783          0  0.000000         0.823529\n",
      "9     false  0.5600          0  0.000000         0.823529\n",
      "23     true  0.4708          1  0.058824         0.882353\n",
      "15     true  0.4569          1  0.058824         0.941176\n",
      "26     true  0.3562          1  0.058824         1.000000\n",
      "14    false  0.2992          0  0.000000         1.000000\n",
      "24    false  0.2846          0  0.000000         1.000000\n",
      "0     false  0.2089          0  0.000000         1.000000\n",
      "4     false  0.1891          0  0.000000         1.000000\n",
      "8     false  0.1560          0  0.000000         1.000000\n",
      "17    false  0.1458          0  0.000000         1.000000\n",
      "25    false  0.1100          0  0.000000         1.000000\n",
      "28    false  0.0895          0  0.000000         1.000000\n",
      "22    false  0.0377          0  0.000000         1.000000\n",
      "1     false  0.0080          0  0.000000         1.000000\n"
     ]
    },
    {
     "data": {
      "text/plain": [
       "(0.9274, 0.23529411764705882)"
      ]
     },
     "execution_count": 29,
     "metadata": {},
     "output_type": "execute_result"
    }
   ],
   "source": [
    "myanswer.cum_gain(target, Model2, 0.2, class1_label)"
   ]
  },
  {
   "cell_type": "code",
   "execution_count": 67,
   "id": "e69dd95a",
   "metadata": {},
   "outputs": [
    {
     "name": "stdout",
     "output_type": "stream",
     "text": [
      "{'AUC': 0.8144796380090498, 'ROC_index': 0.8144796380090498, 'Gini_coef': 0.6289592760180995}\n",
      "{'AUC': 0.9592760180995474, 'ROC_index': 0.9592760180995474, 'Gini_coef': 0.9185520361990949}\n"
     ]
    }
   ],
   "source": [
    "# Q2 - part f\n",
    "\n",
    "print(myanswer.roc(target, Model1, class1_label))\n",
    "print(myanswer.roc(target, Model2, class1_label))\n"
   ]
  },
  {
   "cell_type": "code",
   "execution_count": 30,
   "id": "ef8d9cab",
   "metadata": {},
   "outputs": [
    {
     "name": "stderr",
     "output_type": "stream",
     "text": [
      "/opt/anaconda3/lib/python3.9/site-packages/sklearn/utils/validation.py:70: FutureWarning: Pass pos_label=true as keyword args. From version 1.0 (renaming of 0.25) passing these as positional arguments will result in an error\n",
      "  warnings.warn(f\"Pass {args_msg} as keyword args. From version \"\n",
      "No handles with labels found to put in legend.\n"
     ]
    },
    {
     "data": {
      "image/png": "[encoded data removed]",
      "text/plain": [
       "<Figure size 432x288 with 1 Axes>"
      ]
     },
     "metadata": {
      "needs_background": "light"
     },
     "output_type": "display_data"
    }
   ],
   "source": [
    "fpr, tpr, thres = skplt.metrics.roc_curve(target, Model1, class1_label)\n",
    "\n",
    "\n",
    "plt.plot(fpr, tpr)\n",
    "plt.title('ROC Curve')\n",
    "plt.xlabel('FPR')\n",
    "plt.ylabel('TPR')\n",
    "plt.legend(loc = 'lower left')\n",
    "plt.show()"
   ]
  },
  {
   "cell_type": "code",
   "execution_count": 32,
   "id": "3c7e8ca1",
   "metadata": {},
   "outputs": [],
   "source": [
    "# Q3 - part a\n",
    "\n",
    "myanswer=performance_measure() #define an object\n",
    "\n",
    "TCF10foldCV_known_SNP_PC = pd.read_csv('TCF10foldCV_known_SNP_PC.csv')\n",
    "target_y = TCF10foldCV_known_SNP_PC[\"testy\"]\n",
    "prob_of_class1 = TCF10foldCV_known_SNP_PC[\"prob\"]\n",
    "classes = (\"control\",\"type2diabetes\")\n",
    "class1_label = \"type2diabetes\"\n",
    "predicted_y = myanswer.predict_y(prob_of_class1, classes, thres=0.5)\n",
    "predicted_y\n",
    "predicted_prob_class1 = prob_of_class1\n",
    "target_percent = 0.5"
   ]
  },
  {
   "cell_type": "code",
   "execution_count": 38,
   "id": "33630c44",
   "metadata": {},
   "outputs": [],
   "source": [
    "# myanswer.predict_y(prob_of_class1, classes, thres= 0.5)"
   ]
  },
  {
   "cell_type": "code",
   "execution_count": 34,
   "id": "4a33b8ac",
   "metadata": {},
   "outputs": [
    {
     "data": {
      "text/plain": [
       "{'TPR': 0.5811345646437994,\n",
       " 'TNR': 0.7425414364640884,\n",
       " 'FPR': 0.2574585635359116,\n",
       " 'FNR': 0.4188654353562005,\n",
       " 'precision': 0.6540460282108389,\n",
       " 'recall': 0.5811345646437994,\n",
       " 'F1': 0.6154383513796716}"
      ]
     },
     "execution_count": 34,
     "metadata": {},
     "output_type": "execute_result"
    }
   ],
   "source": [
    "myanswer.confusion_based(target_y, predicted_y, class1_label)"
   ]
  },
  {
   "cell_type": "code",
   "execution_count": 40,
   "id": "2459f970",
   "metadata": {},
   "outputs": [
    {
     "data": {
      "image/png": "[encoded data removed]",
      "text/plain": [
       "<Figure size 432x288 with 2 Axes>"
      ]
     },
     "metadata": {
      "needs_background": "light"
     },
     "output_type": "display_data"
    }
   ],
   "source": [
    "# import matplotlib.pyplot as plt\n",
    "# import numpy as np\n",
    "# from sklearn import metrics\n",
    "\n",
    "# actual = np.random.binomial(1,.9,size = 1000)\n",
    "# predicted = np.random.binomial(1,.9,size = 1000)\n",
    "\n",
    "# confusion_matrix = metrics.confusion_matrix(target_y, predicted_y)\n",
    "\n",
    "# cm_display = metrics.ConfusionMatrixDisplay(confusion_matrix = confusion_matrix, display_labels = [False, True])\n",
    "\n",
    "# cm_display.plot()\n",
    "# plt.show()"
   ]
  },
  {
   "cell_type": "code",
   "execution_count": 39,
   "id": "fff1b58d",
   "metadata": {},
   "outputs": [
    {
     "name": "stdout",
     "output_type": "stream",
     "text": [
      "simple_accuracy: 0.6689717378232111\n"
     ]
    }
   ],
   "source": [
    "from sklearn.metrics import accuracy_score\n",
    "simple_accuracy = accuracy_score(target_y, predicted_y)\n",
    "print(\"simple_accuracy:\",simple_accuracy)"
   ]
  },
  {
   "cell_type": "code",
   "execution_count": 35,
   "id": "354f27bc",
   "metadata": {},
   "outputs": [
    {
     "data": {
      "text/plain": [
       "{'ave': 0.6618380005539439, 'HM': 0.6519971564769167}"
      ]
     },
     "execution_count": 35,
     "metadata": {},
     "output_type": "execute_result"
    }
   ],
   "source": [
    "myanswer.ave_class_accuracy(target_y, predicted_y)"
   ]
  },
  {
   "cell_type": "code",
   "execution_count": 36,
   "id": "44334b9b",
   "metadata": {},
   "outputs": [
    {
     "data": {
      "text/plain": [
       "{'AUC': 0.7340967069490809,\n",
       " 'ROC_index': 0.7340967069490809,\n",
       " 'Gini_coef': 0.4681934138981618}"
      ]
     },
     "execution_count": 36,
     "metadata": {},
     "output_type": "execute_result"
    }
   ],
   "source": [
    "myanswer.roc(target_y, predicted_prob_class1, class1_label)  \n",
    "\n"
   ]
  },
  {
   "cell_type": "code",
   "execution_count": 37,
   "id": "52f7491c",
   "metadata": {},
   "outputs": [
    {
     "name": "stderr",
     "output_type": "stream",
     "text": [
      "/opt/anaconda3/lib/python3.9/site-packages/sklearn/utils/validation.py:70: FutureWarning: Pass pos_label=type2diabetes as keyword args. From version 1.0 (renaming of 0.25) passing these as positional arguments will result in an error\n",
      "  warnings.warn(f\"Pass {args_msg} as keyword args. From version \"\n",
      "No handles with labels found to put in legend.\n"
     ]
    },
    {
     "data": {
      "image/png": "[encoded data removed]",
      "text/plain": [
       "<Figure size 432x288 with 1 Axes>"
      ]
     },
     "metadata": {
      "needs_background": "light"
     },
     "output_type": "display_data"
    }
   ],
   "source": [
    "fpr, tpr, thres = skplt.metrics.roc_curve(target_y, predicted_prob_class1, class1_label)\n",
    "\n",
    "plt.plot(fpr, tpr)\n",
    "plt.title('ROC Curve')\n",
    "plt.xlabel('FPR')\n",
    "plt.ylabel('TPR')\n",
    "plt.legend(loc = 'lower left')\n",
    "plt.show()"
   ]
  },
  {
   "cell_type": "code",
   "execution_count": 43,
   "id": "daeb6ca8",
   "metadata": {},
   "outputs": [],
   "source": [
    "# myanswer.KS(target_y, predicted_prob_class1)  \n",
    "# plt.show()\n"
   ]
  },
  {
   "cell_type": "code",
   "execution_count": 54,
   "id": "069c6f18",
   "metadata": {},
   "outputs": [],
   "source": [
    "# skplt.metrics.plot_ks_statistic(target_y, predicted_y)\n",
    "# plt.show()"
   ]
  },
  {
   "cell_type": "code",
   "execution_count": 55,
   "id": "df251c87",
   "metadata": {},
   "outputs": [],
   "source": [
    "# fpr, tpr, thres=roc_curve(target_y, predicted_prob_class1, pos_label=class1_label)\n",
    "# plt.plot(thres, predicted_y[:1131])\n",
    "# plt.show()"
   ]
  },
  {
   "cell_type": "code",
   "execution_count": 83,
   "id": "3beaaec9",
   "metadata": {},
   "outputs": [
    {
     "name": "stdout",
     "output_type": "stream",
     "text": [
      "           target_y      prob  C1 or not     gain  cumulative_gain\n",
      "1934  type2diabetes  0.964814          1  0.00066         0.000660\n",
      "3251  type2diabetes  0.964211          1  0.00066         0.001319\n",
      "639   type2diabetes  0.959630          1  0.00066         0.001979\n",
      "1846  type2diabetes  0.959479          1  0.00066         0.002639\n",
      "316   type2diabetes  0.959440          1  0.00066         0.003298\n",
      "...             ...       ...        ...      ...              ...\n",
      "1841        control  0.110031          0  0.00000         0.999340\n",
      "765         control  0.109635          0  0.00000         0.999340\n",
      "1769        control  0.109588          0  0.00000         0.999340\n",
      "3076        control  0.105584          0  0.00000         0.999340\n",
      "3244  type2diabetes  0.103624          1  0.00066         1.000000\n",
      "\n",
      "[3326 rows x 5 columns]\n"
     ]
    },
    {
     "data": {
      "text/plain": [
       "(0.623631027220441, 0.5006596306068546)"
      ]
     },
     "execution_count": 83,
     "metadata": {},
     "output_type": "execute_result"
    }
   ],
   "source": [
    "myanswer.cum_gain(target_y, predicted_prob_class1, target_percent, class1_label) \n",
    "\n"
   ]
  },
  {
   "cell_type": "code",
   "execution_count": 59,
   "id": "04536ee9",
   "metadata": {},
   "outputs": [],
   "source": [
    "# Q3 - part b\n",
    "\n",
    "myanswer=performance_measure() #define an object\n",
    "\n",
    "glmnet10foldCV_known_SNP_PC = pd.read_csv('glmnet10foldCV_known_SNP_PC.csv')\n",
    "target_y = glmnet10foldCV_known_SNP_PC[\"testy\"]\n",
    "prob_of_class1 = glmnet10foldCV_known_SNP_PC[\"prob\"]\n",
    "classes = (\"control\",\"type2diabetes\")\n",
    "class1_label = \"control\"\n",
    "predicted_y = myanswer.predict_y(prob_of_class1, classes, thres=0.5)\n",
    "predicted_y\n",
    "predicted_prob_class1 = prob_of_class1\n",
    "target_percent = 0.5\n"
   ]
  },
  {
   "cell_type": "code",
   "execution_count": 61,
   "id": "24d06b05",
   "metadata": {},
   "outputs": [
    {
     "data": {
      "image/png": "[encoded data removed]",
      "text/plain": [
       "<Figure size 432x288 with 2 Axes>"
      ]
     },
     "metadata": {
      "needs_background": "light"
     },
     "output_type": "display_data"
    }
   ],
   "source": [
    "# import matplotlib.pyplot as plt\n",
    "# import numpy as np\n",
    "# from sklearn import metrics\n",
    "\n",
    "# actual = np.random.binomial(1,.9,size = 1000)\n",
    "# predicted = np.random.binomial(1,.9,size = 1000)\n",
    "\n",
    "# confusion_matrix = metrics.confusion_matrix(target_y, predicted_y)\n",
    "\n",
    "# cm_display = metrics.ConfusionMatrixDisplay(confusion_matrix = confusion_matrix, display_labels = [False, True])\n",
    "\n",
    "# cm_display.plot()\n",
    "# plt.show()"
   ]
  },
  {
   "cell_type": "code",
   "execution_count": 64,
   "id": "dbfd46cc",
   "metadata": {},
   "outputs": [
    {
     "name": "stdout",
     "output_type": "stream",
     "text": [
      "simple_accuracy: 0.687913409500902\n"
     ]
    }
   ],
   "source": [
    "from sklearn.metrics import accuracy_score\n",
    "simple_accuracy = accuracy_score(target_y, predicted_y)\n",
    "print(\"simple_accuracy:\",simple_accuracy)"
   ]
  },
  {
   "cell_type": "code",
   "execution_count": 67,
   "id": "0ec4c2bf",
   "metadata": {},
   "outputs": [
    {
     "data": {
      "text/plain": [
       "{'TPR': 0.6385224274406333,\n",
       " 'TNR': 0.7292817679558011,\n",
       " 'FPR': 0.27071823204419887,\n",
       " 'FNR': 0.36147757255936674,\n",
       " 'precision': 0.663923182441701,\n",
       " 'recall': 0.6385224274406333,\n",
       " 'F1': 0.6509751176866174}"
      ]
     },
     "execution_count": 67,
     "metadata": {},
     "output_type": "execute_result"
    }
   ],
   "source": [
    "myanswer.confusion_based(target_y, predicted_y, class1_label)"
   ]
  },
  {
   "cell_type": "code",
   "execution_count": 68,
   "id": "b2209500",
   "metadata": {},
   "outputs": [
    {
     "data": {
      "text/plain": [
       "{'ave': 0.6839020976982172, 'HM': 0.6808909730363424}"
      ]
     },
     "execution_count": 68,
     "metadata": {},
     "output_type": "execute_result"
    }
   ],
   "source": [
    "myanswer.ave_class_accuracy(target_y, predicted_y)"
   ]
  },
  {
   "cell_type": "code",
   "execution_count": 69,
   "id": "1f3011ca",
   "metadata": {},
   "outputs": [
    {
     "data": {
      "text/plain": [
       "{'AUC': 0.7479824778786863,\n",
       " 'ROC_index': 0.7479824778786863,\n",
       " 'Gini_coef': 0.49596495575737265}"
      ]
     },
     "execution_count": 69,
     "metadata": {},
     "output_type": "execute_result"
    }
   ],
   "source": [
    "myanswer.roc(target_y, predicted_prob_class1, class1_label)  "
   ]
  },
  {
   "cell_type": "code",
   "execution_count": 72,
   "id": "830c96af",
   "metadata": {},
   "outputs": [
    {
     "name": "stderr",
     "output_type": "stream",
     "text": [
      "/opt/anaconda3/lib/python3.9/site-packages/sklearn/utils/validation.py:70: FutureWarning: Pass pos_label=control as keyword args. From version 1.0 (renaming of 0.25) passing these as positional arguments will result in an error\n",
      "  warnings.warn(f\"Pass {args_msg} as keyword args. From version \"\n",
      "No handles with labels found to put in legend.\n"
     ]
    },
    {
     "data": {
      "image/png": "[encoded data removed]",
      "text/plain": [
       "<Figure size 432x288 with 1 Axes>"
      ]
     },
     "metadata": {
      "needs_background": "light"
     },
     "output_type": "display_data"
    }
   ],
   "source": [
    "fpr, tpr, thres = skplt.metrics.roc_curve(target_y, predicted_prob_class1, class1_label)\n",
    "\n",
    "plt.plot(fpr, tpr)\n",
    "plt.title('ROC Curve')\n",
    "plt.xlabel('FPR')\n",
    "plt.ylabel('TPR')\n",
    "plt.legend(loc = 'lower left')\n",
    "plt.show()"
   ]
  },
  {
   "cell_type": "code",
   "execution_count": 70,
   "id": "f6a54270",
   "metadata": {},
   "outputs": [
    {
     "name": "stdout",
     "output_type": "stream",
     "text": [
      "           target_y      prob  C1 or not      gain  cumulative_gain\n",
      "1239  type2diabetes  0.929787          0  0.000000         0.000000\n",
      "2518  type2diabetes  0.928307          0  0.000000         0.000000\n",
      "316   type2diabetes  0.923263          0  0.000000         0.000000\n",
      "2184  type2diabetes  0.922698          0  0.000000         0.000000\n",
      "2956  type2diabetes  0.920426          0  0.000000         0.000000\n",
      "...             ...       ...        ...       ...              ...\n",
      "152         control  0.123267          1  0.000552         0.997790\n",
      "765         control  0.121492          1  0.000552         0.998343\n",
      "2787        control  0.117939          1  0.000552         0.998895\n",
      "1013        control  0.116792          1  0.000552         0.999448\n",
      "2381        control  0.096212          1  0.000552         1.000000\n",
      "\n",
      "[3326 rows x 5 columns]\n"
     ]
    },
    {
     "data": {
      "text/plain": [
       "(0.296586270743451, 0.5000000000000062)"
      ]
     },
     "execution_count": 70,
     "metadata": {},
     "output_type": "execute_result"
    }
   ],
   "source": [
    "myanswer.cum_gain(target_y, predicted_prob_class1, target_percent, class1_label) "
   ]
  },
  {
   "cell_type": "code",
   "execution_count": 52,
   "id": "c4a22526",
   "metadata": {},
   "outputs": [],
   "source": [
    "# Q4\n",
    "\n",
    "\n",
    "\n"
   ]
  },
  {
   "cell_type": "code",
   "execution_count": null,
   "id": "f2b8adba",
   "metadata": {},
   "outputs": [],
   "source": []
  }
 ],
 "metadata": {
  "kernelspec": {
   "display_name": "Python 3 (ipykernel)",
   "language": "python",
   "name": "python3"
  },
  "language_info": {
   "codemirror_mode": {
    "name": "ipython",
    "version": 3
   },
   "file_extension": ".py",
   "mimetype": "text/x-python",
   "name": "python",
   "nbconvert_exporter": "python",
   "pygments_lexer": "ipython3",
   "version": "3.9.7"
  }
 },
 "nbformat": 4,
 "nbformat_minor": 5
}
